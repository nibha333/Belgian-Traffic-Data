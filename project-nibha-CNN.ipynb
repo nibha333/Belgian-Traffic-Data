{
 "cells": [
  {
   "cell_type": "code",
   "execution_count": 1,
   "metadata": {},
   "outputs": [
    {
     "name": "stderr",
     "output_type": "stream",
     "text": [
      "Using TensorFlow backend.\n"
     ]
    }
   ],
   "source": [
    "# https://stackoverflow.com/questions/45230448/how-to-get-reproducible-result-when-running-keras-with-tensorflow-backend\n",
    "\n",
    "import numpy as np\n",
    "import tensorflow as tf\n",
    "import random as rn\n",
    "\n",
    "import os\n",
    "os.environ['PYTHONHASHSEED'] = '0'\n",
    "\n",
    "np.random.seed(42)\n",
    "\n",
    "\n",
    "rn.seed(12345)\n",
    "\n",
    "\n",
    "session_conf = tf.ConfigProto(intra_op_parallelism_threads=1, inter_op_parallelism_threads=1)\n",
    "\n",
    "from keras import backend as K\n",
    "\n",
    "\n",
    "\n",
    "tf.set_random_seed(1234)\n",
    "\n",
    "sess = tf.Session(graph=tf.get_default_graph(), config=session_conf)\n",
    "K.set_session(sess)"
   ]
  },
  {
   "cell_type": "code",
   "execution_count": 5,
   "metadata": {},
   "outputs": [
    {
     "name": "stderr",
     "output_type": "stream",
     "text": [
      "C:\\Users\\nibha\\Anaconda3\\lib\\site-packages\\skimage\\transform\\_warps.py:110: UserWarning: Anti-aliasing will be enabled by default in skimage 0.15 to avoid aliasing artifacts when down-sampling images.\n",
      "  warn(\"Anti-aliasing will be enabled by default in skimage 0.15 to \"\n"
     ]
    }
   ],
   "source": [
    "\n",
    "\n",
    "import skimage.data\n",
    "import skimage.transform\n",
    "import matplotlib\n",
    "import matplotlib.pyplot as plt\n",
    "\n",
    "\n",
    "\n",
    "# from tensorflow.python.framework import ops\n",
    "import warnings\n",
    "\n",
    "\n",
    "#code tutorial\n",
    "#https:////github.com//PacktPublishing//Practical-Convolutional-Neural-Networks//blob//master//Chapter03//Traffic//custom.py\n",
    "\n",
    "Train_IMAGE_DIR = \"C://New folder//OneDrive//ai class//Final Project//BelgiumTSC_Training//\"\n",
    "Test_IMAGE_DIR = \"C://New folder//OneDrive//ai class//Final Project//BelgiumTSC_Testing//\"\n",
    "\n",
    "# Train_IMAGE_DIR = 'C:/Users/bipul/niva/BelgiumTSC_Training/'\n",
    "# Test_IMAGE_DIR = 'C:/Users/bipul/niva/BelgiumTSC_Testing/'\n",
    "\n",
    "def load_data(data_dir):\n",
    "    \"\"\"Loads a data set and returns two lists:\n",
    "    \n",
    "    images: a list of Numpy arrays, each representing an image.\n",
    "    labels: a list of numbers that represent the images labels.\n",
    "    \"\"\"\n",
    "    # Get all the subdirectories of the data folder (i.e. traing or test). Each folder represents an unique label.\n",
    "    directories = [d for d in os.listdir(data_dir) \n",
    "                   if os.path.isdir(os.path.join(data_dir, d))]\n",
    "    \n",
    "    # Iterate for loop through the label directories and collect the data in two lists, labels and images.\n",
    "    labels = []\n",
    "    images = []\n",
    "    for d in directories:\n",
    "        label_dir = os.path.join(data_dir, d)\n",
    "        file_names = [os.path.join(label_dir, f) for f in os.listdir(label_dir) if f.endswith(\".ppm\")]\n",
    "\n",
    "        # For each label, load it's images and add them to the images list.\n",
    "        # And add the label number (i.e. directory name) to the labels list.\n",
    "        for f in file_names:\n",
    "            images.append(skimage.data.imread(f))\n",
    "            labels.append(int(d))\n",
    "    return images, labels\n",
    "\n",
    "# Load training and testing datasets.\n",
    "# train_data_dir = os.path.join(Train_IMAGE_DIR, \"Training\")\n",
    "# test_data_dir = os.path.join(Test_IMAGE_DIR, \"Testing\")\n",
    "\n",
    "\n",
    "\n",
    "images1, labels1 = load_data(Train_IMAGE_DIR)\n",
    "images2, labels2 = load_data(Test_IMAGE_DIR)\n",
    "\n",
    "# images1, labels1 = load_data(train_data_dir)\n",
    "# images2, labels2 = load_data(test_data_dir)\n",
    "\n",
    "#combine training and testing data\n",
    "\n",
    "# images = images1 + images2\n",
    "# labels = labels1 + labels2\n",
    "\n",
    "# #combine training and testing data\n",
    "\n",
    "images = images1 + images2\n",
    "labels = labels1 + labels2\n",
    "\n",
    "\"Resize images\"\n",
    "images32 = [skimage.transform.resize(image, (32, 32), mode='constant')\n",
    "                for image in images]"
   ]
  },
  {
   "cell_type": "markdown",
   "metadata": {},
   "source": [
    "Out Fully Connected – 1,000 – – – Softmax \n",
    "F9 Fully Connected – 4,096 – – – ReLU \n",
    "F8 Fully Connected – 4,096 – – – ReLU \n",
    "C7 Convolution 256 13 × 13 3 × 3 1 SAME ReLU \n",
    "C6 Convolution 384 13 × 13 3 × 3 1 SAME ReLU C5 \n",
    "Convolution 384 13 × 13 3 × 3 1 SAME ReLU \n",
    "S4 Max Pooling 256 13 × 13 3 × 3 2 VALID – \n",
    "C3 Convolution 256 27 × 27 5 × 5 1 SAME ReLU \n",
    "S2 Max Pooling 96 27 × 27 3 × 3 2 VALID – \n",
    "C1 Convolution 96 55 × 55 11 × 11 4 SAME ReLU I\n",
    "n Input 3 (RGB) 224 × 224 – – – –\n"
   ]
  },
  {
   "cell_type": "code",
   "execution_count": 6,
   "metadata": {},
   "outputs": [],
   "source": [
    "from sklearn.model_selection import train_test_split\n",
    "\n",
    "# images_array = np.array(images32)\n",
    "labels_array = np.array(labels)\n",
    "images_array = np.array(images32)\n",
    "\n",
    "from keras.utils import np_utils\n",
    "\n",
    "images_array = images_array.astype('float32') / 255.\n",
    "labels_array = np_utils.to_categorical(labels_array, 62)\n",
    "\n",
    "(X_train, X_test, y_train, y_test) = train_test_split(images_array,labels_array, test_size=0.25, random_state=0, shuffle=True)\n",
    "\n",
    "#Set the initial parameters\n",
    "batch_size = 128\n",
    "nb_classes = 10\n",
    "nb_epoch = 10\n",
    "          \n",
    "img_rows, img_cols = 32,32\n",
    "\n",
    "\n",
    "X_train = X_train.reshape(X_train.shape[0], img_rows, img_cols, 3)\n",
    "X_test = X_test.reshape(X_test.shape[0], img_rows, img_cols, 3)\n",
    "\n",
    "\n",
    "input_shape = (img_rows, img_cols, 3)\n",
    "    \n"
   ]
  },
  {
   "cell_type": "code",
   "execution_count": 9,
   "metadata": {},
   "outputs": [
    {
     "data": {
      "text/plain": [
       "<keras.initializers.VarianceScaling at 0x1ce0f1cbe80>"
      ]
     },
     "execution_count": 9,
     "metadata": {},
     "output_type": "execute_result"
    }
   ],
   "source": [
    "from keras.models import Sequential\n",
    "from keras.layers import Dense, Flatten, Convolution2D,AveragePooling2D, MaxPooling2D, Dropout\n",
    "from keras.optimizers import Adam\n",
    "from keras.initializers import glorot_uniform \n",
    "\n",
    "glorot_uniform(seed=0)"
   ]
  },
  {
   "cell_type": "code",
   "execution_count": 7,
   "metadata": {},
   "outputs": [],
   "source": [
    "\"method for building graphs\"\n",
    "\n",
    "def epoch_graph(hs,num):\n",
    "\n",
    "\n",
    "    plt.plot(hs.history['acc'])\n",
    "    plt.plot(hs.history['val_acc'])\n",
    "    plt.title('model '+ num +' accuracy')\n",
    "    plt.ylabel('accuracy')\n",
    "    plt.xlabel('epoch')\n",
    "    plt.legend(['train', 'test'], loc='upper left')\n",
    "    plt.show()\n",
    "\n",
    "    plt.plot(1-np.asarray(hs.history['acc']))\n",
    "    plt.plot(1-np.asarray(hs.history['val_acc']))\n",
    "    plt.title('model '+ num +' error')\n",
    "    plt.ylabel('error rate')\n",
    "    plt.xlabel('epoch')\n",
    "    plt.legend(['train', 'test'], loc='best')\n",
    "    plt.show()\n",
    "\n",
    "    plt.plot(hs.history['loss'])\n",
    "    plt.plot(hs.history['val_loss'])\n",
    "    plt.title('model '+ num +' loss')\n",
    "    plt.ylabel('loss')\n",
    "    plt.xlabel('epoch')\n",
    "    plt.legend(['train', 'test'], loc='upper left')\n",
    "    plt.show()\n"
   ]
  },
  {
   "cell_type": "code",
   "execution_count": null,
   "metadata": {},
   "outputs": [],
   "source": [
    "\"CNN model 1\""
   ]
  },
  {
   "cell_type": "code",
   "execution_count": 288,
   "metadata": {},
   "outputs": [],
   "source": [
    "pool_size=(2,2)\n",
    "\n",
    "cnn1 = Sequential([\n",
    "    Convolution2D(32,3,padding='same', activation='relu',kernel_initializer=glorot_uniform(seed=0), input_shape=(32,32,3)),\n",
    "    MaxPooling2D(pool_size=pool_size, strides=(2,2), padding='same'),\n",
    "    Dropout(.10, seed= 0),\n",
    "    Convolution2D(64,5, padding='same',kernel_initializer=glorot_uniform(seed=0),activation='relu'),\n",
    "    MaxPooling2D(pool_size=pool_size, strides=(2,2), padding='same'),\n",
    "    Dropout(.20, seed= 0),\n",
    "    Convolution2D(128,7, padding='same',kernel_initializer=glorot_uniform(seed=0),activation='relu'),\n",
    "    MaxPooling2D(pool_size=pool_size, strides=(2,2), padding='same'),\n",
    "    Flatten(),\n",
    "    Dropout(.30, seed= 0),\n",
    "    Dense(256, activation='relu'),\n",
    "    Dropout(.40),\n",
    "    Dense(62, activation='softmax')\n",
    "])\n",
    "\n",
    "# cnn1.summary()"
   ]
  },
  {
   "cell_type": "code",
   "execution_count": null,
   "metadata": {},
   "outputs": [],
   "source": [
    "\"CNN Model 2\""
   ]
  },
  {
   "cell_type": "code",
   "execution_count": 10,
   "metadata": {},
   "outputs": [
    {
     "name": "stdout",
     "output_type": "stream",
     "text": [
      "WARNING:tensorflow:From C:\\Users\\nibha\\Anaconda3\\lib\\site-packages\\tensorflow\\python\\framework\\op_def_library.py:263: colocate_with (from tensorflow.python.framework.ops) is deprecated and will be removed in a future version.\n",
      "Instructions for updating:\n",
      "Colocations handled automatically by placer.\n",
      "WARNING:tensorflow:From C:\\Users\\nibha\\Anaconda3\\lib\\site-packages\\keras\\backend\\tensorflow_backend.py:3445: calling dropout (from tensorflow.python.ops.nn_ops) with keep_prob is deprecated and will be removed in a future version.\n",
      "Instructions for updating:\n",
      "Please use `rate` instead of `keep_prob`. Rate should be set to `rate = 1 - keep_prob`.\n"
     ]
    }
   ],
   "source": [
    "pool_size=(2,2)\n",
    "cnn2 = Sequential([\n",
    "    Convolution2D(32,5,padding='same', activation='tanh', input_shape=(32,32,3)),\n",
    "    AveragePooling2D(pool_size=pool_size, strides=(2,2), padding='same'),\n",
    "    Dropout(.10, seed= 0),\n",
    "    Convolution2D(64,5, padding='same', activation='tanh'),\n",
    "    AveragePooling2D(pool_size=pool_size, strides=(2,2), padding='same'),\n",
    "    Dropout(.20, seed= 0),\n",
    "    Convolution2D(128,5, padding='same', activation='tanh'),\n",
    "    AveragePooling2D(pool_size=pool_size, strides=(2,2), padding='same'),\n",
    "    Flatten(),\n",
    "    Dropout(.30, seed= 0),\n",
    "    Dense(256, activation='tanh'),\n",
    "    Dropout(.40, seed= 0),\n",
    "    Dense(62, activation='softmax')\n",
    "])\n",
    "\n",
    "# cnn2.summary()"
   ]
  },
  {
   "cell_type": "markdown",
   "metadata": {},
   "source": [
    "The model weights are initialised randomly according to the initialization\n",
    "type. In general stochastic optimisation is not known to yield the exact\n",
    "same result each time. That's why people like to use ensembles of models to\n",
    "give more accurate predictions."
   ]
  },
  {
   "cell_type": "code",
   "execution_count": 289,
   "metadata": {},
   "outputs": [
    {
     "data": {
      "image/png": "[encoded data removed]",
      "text/plain": [
       "<Figure size 432x288 with 1 Axes>"
      ]
     },
     "metadata": {
      "needs_background": "light"
     },
     "output_type": "display_data"
    },
    {
     "data": {
      "image/png": "[encoded data removed]",
      "text/plain": [
       "<Figure size 432x288 with 1 Axes>"
      ]
     },
     "metadata": {
      "needs_background": "light"
     },
     "output_type": "display_data"
    },
    {
     "data": {
      "image/png": "[encoded data removed]",
      "text/plain": [
       "<Figure size 432x288 with 1 Axes>"
      ]
     },
     "metadata": {
      "needs_background": "light"
     },
     "output_type": "display_data"
    }
   ],
   "source": [
    "\"compile and fit model1\"\n",
    "\n",
    "opt = Adam(lr=0.001)\n",
    "cnn1.compile(optimizer=opt, loss='categorical_crossentropy', metrics=['accuracy'])\n",
    "history = cnn1.fit(x=X_train,y= y_train, validation_data=(X_test, y_test),epochs=30, batch_size=128, shuffle=False, verbose=0)\n",
    "\n",
    "epoch_graph(history,\"1\")\n"
   ]
  },
  {
   "cell_type": "code",
   "execution_count": 294,
   "metadata": {},
   "outputs": [
    {
     "data": {
      "image/png": "[encoded data removed]",
      "text/plain": [
       "<Figure size 432x288 with 1 Axes>"
      ]
     },
     "metadata": {
      "needs_background": "light"
     },
     "output_type": "display_data"
    },
    {
     "data": {
      "image/png": "[encoded data removed]",
      "text/plain": [
       "<Figure size 432x288 with 1 Axes>"
      ]
     },
     "metadata": {
      "needs_background": "light"
     },
     "output_type": "display_data"
    },
    {
     "data": {
      "image/png": "[encoded data removed]",
      "text/plain": [
       "<Figure size 432x288 with 1 Axes>"
      ]
     },
     "metadata": {
      "needs_background": "light"
     },
     "output_type": "display_data"
    }
   ],
   "source": [
    "\"compile and fit model 2\"\n",
    "\n",
    "opt = Adam(lr=0.001)\n",
    "cnn2.compile(optimizer=opt, loss='categorical_crossentropy', metrics=['accuracy'])\n",
    "history2 = cnn2.fit(x=X_train,y= y_train, validation_data=(X_test, y_test),epochs=30, batch_size=128, shuffle=False, verbose=0)\n",
    "\n",
    "epoch_graph(history2,\"2\")"
   ]
  },
  {
   "cell_type": "code",
   "execution_count": 57,
   "metadata": {},
   "outputs": [],
   "source": [
    "\"convert from list to array\"\n",
    "\n",
    "new_data = images_array\n",
    "new_label = labels_array\n",
    "new_labels=np.asarray(labels1+labels2)"
   ]
  },
  {
   "cell_type": "code",
   "execution_count": 58,
   "metadata": {},
   "outputs": [
    {
     "data": {
      "text/plain": [
       "array([ 0,  0,  0, ..., 61, 61, 61])"
      ]
     },
     "execution_count": 58,
     "metadata": {},
     "output_type": "execute_result"
    }
   ],
   "source": [
    "new_labels"
   ]
  },
  {
   "cell_type": "code",
   "execution_count": null,
   "metadata": {},
   "outputs": [],
   "source": [
    "from imblearn.metrics import sensitivity_specificity_support\n",
    "from sklearn.pipeline import Pipeline\n",
    "from sklearn.metrics import accuracy_score, roc_auc_score, roc_curve, f1_score, classification_score\n",
    "from sklearn.preprocessing import StandardScaler\n",
    "from sklearn.model_selection import RandomizedSearchCV, train_test_split, LeaveOneOut, KFold, cross_val_score,cross_val_predict"
   ]
  },
  {
   "cell_type": "code",
   "execution_count": 66,
   "metadata": {},
   "outputs": [],
   "source": [
    "\n",
    "\"divide data into 4 folds\"\n",
    "\n",
    "kf = KFold(n_splits=4)\n",
    "fold1, fold2, fold3, fold4 = kf.split(new_data)\n",
    "\n",
    "xtrain1,xtest1=new_data[fold1[0]],new_data[fold1[1]]\n",
    "ytrain1,ytest1=new_labels[fold1[0]],new_labels[fold1[1]]\n",
    "\n",
    "xtrain2,xtest2=new_data[fold2[0]],new_data[fold2[1]]\n",
    "ytrain2,ytest2=new_labels[fold2[0]],new_labels[fold2[1]]\n",
    "\n",
    "xtrain3,xtest3=new_data[fold3[0]],new_data[fold3[1]]\n",
    "ytrain3,ytest3=new_labels[fold3[0]],new_labels[fold3[1]]\n",
    "\n",
    "xtrain4,xtest4=new_data[fold4[0]],new_data[fold4[1]]\n",
    "ytrain4,ytest4=new_labels[fold4[0]],new_labels[fold4[1]]\n",
    "\n",
    "\n"
   ]
  },
  {
   "cell_type": "markdown",
   "metadata": {},
   "source": [
    "\n",
    "\"divide data into 4 folds\"\n",
    "\n",
    "kf = KFold(n_splits=4)\n",
    "fold1, fold2, fold3, fold4 = kf.split(new_data)\n",
    "\n",
    "xtrain1,xtest1=new_data[fold1[0]],new_data[fold1[1]]\n",
    "ytrain1,ytest1=new_label[fold1[0]],new_label[fold1[1]]\n",
    "\n",
    "xtrain2,xtest2=new_data[fold2[0]],new_data[fold2[1]]\n",
    "ytrain2,ytest2=new_label[fold2[0]],new_label[fold2[1]]\n",
    "\n",
    "xtrain3,xtest3=new_data[fold3[0]],new_data[fold3[1]]\n",
    "ytrain3,ytest3=new_label[fold3[0]],new_label[fold3[1]]\n",
    "\n",
    "xtrain4,xtest4=new_data[fold4[0]],new_data[fold4[1]]\n",
    "ytrain4,ytest4=new_label[fold4[0]],new_label[fold4[1]]\n",
    "\n",
    "\n"
   ]
  },
  {
   "cell_type": "code",
   "execution_count": 39,
   "metadata": {},
   "outputs": [],
   "source": [
    "\"only use model 2 since it for better results\"\n",
    "\n",
    "opt = Adam(lr=0.001)\n",
    "cnn2.compile(optimizer=opt, loss='categorical_crossentropy', metrics=['accuracy'])\n"
   ]
  },
  {
   "cell_type": "code",
   "execution_count": 71,
   "metadata": {},
   "outputs": [],
   "source": [
    "from keras.models import Sequential\n",
    "from keras.layers.core import Dense, Dropout, Activation, Flatten\n",
    "from keras.utils import np_utils\n",
    "from keras.losses import sparse_categorical_crossentropy, categorical_crossentropy\n",
    "from keras.initializers import glorot_uniform, he_normal\n",
    "from keras.wrappers.scikit_learn import KerasClassifier\n",
    "from keras.preprocessing.image import ImageDataGenerator, array_to_img\n",
    "\n",
    "from sklearn.pipeline import Pipeline\n",
    "from sklearn.metrics import classification_report, accuracy_score, roc_auc_score\n",
    "from sklearn.preprocessing import StandardScaler\n",
    "from sklearn.model_selection import RandomizedSearchCV, train_test_split, LeaveOneOut, KFold, cross_val_score,cross_val_predict\n",
    "from sklearn.neighbors import KNeighborsClassifier \n",
    "from imblearn.metrics import sensitivity_specificity_support"
   ]
  },
  {
   "cell_type": "code",
   "execution_count": 41,
   "metadata": {},
   "outputs": [
    {
     "data": {
      "text/plain": [
       "<keras.callbacks.History at 0x1ce487b6588>"
      ]
     },
     "execution_count": 41,
     "metadata": {},
     "output_type": "execute_result"
    }
   ],
   "source": [
    "cnn2.fit(x=xtrain1,y= ytrain1, validation_data=(xtest1, ytest1),epochs=30, batch_size=128, shuffle=False, verbose=0)\n",
    "    \n",
    "    \n",
    "    "
   ]
  },
  {
   "cell_type": "code",
   "execution_count": 42,
   "metadata": {},
   "outputs": [],
   "source": [
    "pred= cnn2.predict(xtest1)"
   ]
  },
  {
   "cell_type": "code",
   "execution_count": 44,
   "metadata": {},
   "outputs": [],
   "source": [
    "cnn_pred = np.argmax(np.round(pred), axis=1)"
   ]
  },
  {
   "cell_type": "code",
   "execution_count": 45,
   "metadata": {},
   "outputs": [
    {
     "data": {
      "text/plain": [
       "array([ 1,  1,  1, ..., 31, 31, 31], dtype=int64)"
      ]
     },
     "execution_count": 45,
     "metadata": {},
     "output_type": "execute_result"
    }
   ],
   "source": [
    "cnn_pred"
   ]
  },
  {
   "cell_type": "code",
   "execution_count": 67,
   "metadata": {},
   "outputs": [
    {
     "data": {
      "text/plain": [
       "array([ 0,  0,  0, ..., 31, 31, 31])"
      ]
     },
     "execution_count": 67,
     "metadata": {},
     "output_type": "execute_result"
    }
   ],
   "source": [
    "ytest1"
   ]
  },
  {
   "cell_type": "code",
   "execution_count": 68,
   "metadata": {},
   "outputs": [
    {
     "name": "stdout",
     "output_type": "stream",
     "text": [
      "(0.6071025930101466, 0.9884744031024253, None)\n"
     ]
    },
    {
     "name": "stderr",
     "output_type": "stream",
     "text": [
      "C:\\Users\\nibha\\Anaconda3\\lib\\site-packages\\imblearn\\metrics\\_classification.py:243: UndefinedMetricWarning: Sensitivity is ill-defined and being set to 0.0 in labels with no true samples.\n",
      "  average, warn_for)\n"
     ]
    }
   ],
   "source": [
    "report2= sensitivity_specificity_support(ytest1,cnn_pred,average='weighted')\n",
    "print(report2)"
   ]
  },
  {
   "cell_type": "code",
   "execution_count": 73,
   "metadata": {},
   "outputs": [
    {
     "name": "stdout",
     "output_type": "stream",
     "text": [
      "              precision    recall  f1-score   support\n",
      "\n",
      "           0       0.01      0.13      0.02        15\n",
      "           1       0.84      0.69      0.76       110\n",
      "           2       0.14      0.15      0.15        13\n",
      "           3       1.00      0.07      0.12        15\n",
      "           4       0.04      0.07      0.05        15\n",
      "           5       1.00      0.36      0.53        11\n",
      "           6       1.00      0.06      0.11        18\n",
      "           7       0.86      0.24      0.38       157\n",
      "           8       0.14      0.04      0.06        27\n",
      "           9       0.00      0.00      0.00        18\n",
      "          10       0.65      0.62      0.63        21\n",
      "          11       0.00      0.00      0.00         7\n",
      "          12       0.00      0.00      0.00        18\n",
      "          13       0.70      0.60      0.65        90\n",
      "          14       0.25      0.07      0.11        43\n",
      "          15       0.00      0.00      0.00         9\n",
      "          16       0.13      0.22      0.17         9\n",
      "          17       0.44      0.99      0.61        79\n",
      "          18       0.50      0.67      0.57        81\n",
      "          19       0.97      0.94      0.96       231\n",
      "          20       0.00      0.00      0.00        42\n",
      "          21       0.50      0.58      0.54        43\n",
      "          22       0.95      0.78      0.86       375\n",
      "          23       0.80      0.53      0.64        15\n",
      "          24       0.91      0.88      0.89        48\n",
      "          25       0.00      0.00      0.00        42\n",
      "          26       0.00      0.00      0.00         6\n",
      "          27       0.80      0.22      0.35        18\n",
      "          28       0.74      0.78      0.76       125\n",
      "          29       0.93      0.85      0.89        33\n",
      "          30       0.94      0.81      0.87        37\n",
      "          31       0.75      1.00      0.86         3\n",
      "          32       0.00      0.00      0.00         0\n",
      "          35       0.00      0.00      0.00         0\n",
      "          37       0.00      0.00      0.00         0\n",
      "          38       0.00      0.00      0.00         0\n",
      "          39       0.00      0.00      0.00         0\n",
      "          40       0.00      0.00      0.00         0\n",
      "          41       0.00      0.00      0.00         0\n",
      "          43       0.00      0.00      0.00         0\n",
      "          51       0.00      0.00      0.00         0\n",
      "          52       0.00      0.00      0.00         0\n",
      "          54       0.00      0.00      0.00         0\n",
      "          56       0.00      0.00      0.00         0\n",
      "          58       0.00      0.00      0.00         0\n",
      "          60       0.00      0.00      0.00         0\n",
      "          61       0.00      0.00      0.00         0\n",
      "\n",
      "   micro avg       0.61      0.61      0.61      1774\n",
      "   macro avg       0.34      0.26      0.27      1774\n",
      "weighted avg       0.72      0.61      0.63      1774\n",
      "\n"
     ]
    },
    {
     "name": "stderr",
     "output_type": "stream",
     "text": [
      "C:\\Users\\nibha\\Anaconda3\\lib\\site-packages\\sklearn\\metrics\\classification.py:1143: UndefinedMetricWarning: Precision and F-score are ill-defined and being set to 0.0 in labels with no predicted samples.\n",
      "  'precision', 'predicted', average, warn_for)\n",
      "C:\\Users\\nibha\\Anaconda3\\lib\\site-packages\\sklearn\\metrics\\classification.py:1145: UndefinedMetricWarning: Recall and F-score are ill-defined and being set to 0.0 in labels with no true samples.\n",
      "  'recall', 'true', average, warn_for)\n"
     ]
    }
   ],
   "source": [
    "report1= classification_report(ytest1,cnn_pred)\n",
    "print(report1)"
   ]
  },
  {
   "cell_type": "code",
   "execution_count": 77,
   "metadata": {},
   "outputs": [
    {
     "name": "stdout",
     "output_type": "stream",
     "text": [
      "0.6071025930101466\n"
     ]
    }
   ],
   "source": [
    "report3=accuracy_score(ytest1,cnn_pred)\n",
    "print(report3)"
   ]
  },
  {
   "cell_type": "code",
   "execution_count": null,
   "metadata": {},
   "outputs": [],
   "source": []
  },
  {
   "cell_type": "code",
   "execution_count": 34,
   "metadata": {},
   "outputs": [],
   "source": [
    "def get_eval(X_train, X_test, y_train, y_test):\n",
    "    \n",
    "#     scaler= StandardScaler(with_std=False)\n",
    "#     X_train = scaler.fit_transform(X_train)\n",
    "#     X_test = scaler.transform(X_test)\n",
    "  \n",
    "    cnn2.fit(x=X_train,y= y_train, validation_data=(X_test, y_test),epochs=30, batch_size=128, shuffle=False, verbose=0)\n",
    "    preddd= cnn2.predict(X_test)\n",
    "    cnn_pred = np.argmax(np.round(preddd), axis=1)\n",
    "    \n",
    "    \n",
    "    report1= classification_report(y_test,cnn_pred)\n",
    "    print(report1)\n",
    "    report2= sensitivity_specificity_support(y_test,cnn_pred,average='weighted')\n",
    "    print(report2)\n",
    "    report3=accuracy_score(X_test, y_test)\n",
    "    preint(report3)\n",
    "    \n",
    "    "
   ]
  },
  {
   "cell_type": "code",
   "execution_count": null,
   "metadata": {},
   "outputs": [],
   "source": [
    "score2 = get_eval(xtrain2,xtest2,ytrain2,ytest2)"
   ]
  },
  {
   "cell_type": "code",
   "execution_count": null,
   "metadata": {},
   "outputs": [],
   "source": [
    "score3 = get_eval(xtrain3,xtest3,ytrain3,ytest3)"
   ]
  },
  {
   "cell_type": "code",
   "execution_count": null,
   "metadata": {},
   "outputs": [],
   "source": [
    "score4 = get_eval(xtrain4,xtest4,ytrain4,ytest4)"
   ]
  }
 ],
 "metadata": {
  "kernelspec": {
   "display_name": "Python 3",
   "language": "python",
   "name": "python3"
  },
  "language_info": {
   "codemirror_mode": {
    "name": "ipython",
    "version": 3
   },
   "file_extension": ".py",
   "mimetype": "text/x-python",
   "name": "python",
   "nbconvert_exporter": "python",
   "pygments_lexer": "ipython3",
   "version": "3.7.3"
  }
 },
 "nbformat": 4,
 "nbformat_minor": 2
}
